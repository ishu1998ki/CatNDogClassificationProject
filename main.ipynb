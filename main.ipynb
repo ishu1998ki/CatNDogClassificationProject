{
  "cells": [
    {
      "cell_type": "markdown",
      "metadata": {
        "id": "view-in-github",
        "colab_type": "text"
      },
      "source": [
        "<a href=\"https://colab.research.google.com/github/ishu1998ki/CatNDogClassificationProject/blob/main/main.ipynb\" target=\"_parent\"><img src=\"https://colab.research.google.com/assets/colab-badge.svg\" alt=\"Open In Colab\"/></a>"
      ]
    },
    {
      "cell_type": "code",
      "execution_count": 3,
      "metadata": {
        "id": "d75-wGZLgtpq"
      },
      "outputs": [],
      "source": [
        "!mkdir -p ~/.kaggle\n",
        "!cp kaggle.json ~/.kaggle/"
      ]
    },
    {
      "cell_type": "code",
      "execution_count": 4,
      "metadata": {
        "colab": {
          "base_uri": "https://localhost:8080/"
        },
        "id": "CxPTDN_KiuuY",
        "outputId": "f9fec8f0-46bc-4724-ed61-653c80e4fcb2"
      },
      "outputs": [
        {
          "output_type": "stream",
          "name": "stdout",
          "text": [
            "Warning: Your Kaggle API key is readable by other users on this system! To fix this, you can run 'chmod 600 /root/.kaggle/kaggle.json'\n",
            "Downloading dogs-vs-cats.zip to /content\n",
            "100% 1.06G/1.06G [00:29<00:00, 41.3MB/s]\n",
            "100% 1.06G/1.06G [00:29<00:00, 38.8MB/s]\n"
          ]
        }
      ],
      "source": [
        "!kaggle datasets download -d salader/dogs-vs-cats"
      ]
    },
    {
      "cell_type": "code",
      "execution_count": 5,
      "metadata": {
        "id": "EqRqOh83jGUz"
      },
      "outputs": [],
      "source": [
        "import zipfile\n",
        "zip_ref = zipfile.ZipFile('/content/dogs-vs-cats.zip','r')\n",
        "zip_ref.extractall('/content')\n",
        "zip_ref.close()"
      ]
    },
    {
      "cell_type": "code",
      "execution_count": 6,
      "metadata": {
        "id": "7GcqdBBhkKr3"
      },
      "outputs": [],
      "source": [
        "import tensorflow as tf\n",
        "from tensorflow import keras\n",
        "from keras import Sequential\n",
        "from keras.layers import Dense,Conv2D,MaxPooling2D,Flatten"
      ]
    },
    {
      "cell_type": "code",
      "execution_count": 7,
      "metadata": {
        "colab": {
          "base_uri": "https://localhost:8080/"
        },
        "id": "nuCGrg5JlwoC",
        "outputId": "abc661bf-8b78-446e-decb-d6d5d4b13eb5"
      },
      "outputs": [
        {
          "output_type": "stream",
          "name": "stdout",
          "text": [
            "Found 20000 files belonging to 2 classes.\n",
            "Found 5000 files belonging to 2 classes.\n"
          ]
        }
      ],
      "source": [
        "# create generators\n",
        "train_ds = keras.utils.image_dataset_from_directory(\n",
        "    directory = '/content/train',\n",
        "    labels = 'inferred',\n",
        "    label_mode = 'int',\n",
        "    batch_size = 32,\n",
        "    image_size = (256,256)\n",
        ")\n",
        "validation_ds = keras.utils.image_dataset_from_directory(\n",
        "    directory = '/content/test',\n",
        "    labels = 'inferred',\n",
        "    label_mode = 'int',\n",
        "    batch_size = 32,\n",
        "    image_size = (256,256)\n",
        ")"
      ]
    },
    {
      "cell_type": "code",
      "execution_count": 8,
      "metadata": {
        "id": "z_zeK0mIrLo7"
      },
      "outputs": [],
      "source": [
        "def process(image,label):\n",
        "  image = tf.cast(image/255. , tf.float32)\n",
        "  return image, label\n",
        "\n",
        "train_ds = train_ds.map(process)\n",
        "validation_ds = validation_ds.map(process)"
      ]
    },
    {
      "cell_type": "code",
      "execution_count": 9,
      "metadata": {
        "id": "c4Pd_dODsKE5"
      },
      "outputs": [],
      "source": [
        "# create CNN model\n",
        "model = Sequential()\n",
        "model.add(Conv2D(32,kernel_size = (3,3),padding ='valid', activation = 'relu',input_shape = (256,256,3)))\n",
        "model.add(MaxPooling2D(pool_size=(2,2), strides=2,padding='valid'))\n",
        "\n",
        "model.add(Conv2D(64,kernel_size = (3,3),padding ='valid', activation = 'relu'))\n",
        "model.add(MaxPooling2D(pool_size=(2,2), strides=2,padding='valid'))\n",
        "\n",
        "model.add(Conv2D(128,kernel_size = (3,3),padding ='valid', activation = 'relu'))\n",
        "model.add(MaxPooling2D(pool_size=(2,2), strides=2,padding='valid'))\n",
        "\n",
        "model.add(Flatten())\n",
        "\n",
        "model.add(Dense(128,activation='relu'))\n",
        "model.add(Dense(64,activation='relu'))\n",
        "model.add(Dense(1,activation='sigmoid'))"
      ]
    },
    {
      "cell_type": "code",
      "execution_count": 10,
      "metadata": {
        "colab": {
          "base_uri": "https://localhost:8080/"
        },
        "id": "hOtc2RLCQ_On",
        "outputId": "aac4926f-c41b-4eaf-8f65-c58db90e0d30"
      },
      "outputs": [
        {
          "output_type": "stream",
          "name": "stdout",
          "text": [
            "Model: \"sequential\"\n",
            "_________________________________________________________________\n",
            " Layer (type)                Output Shape              Param #   \n",
            "=================================================================\n",
            " conv2d (Conv2D)             (None, 254, 254, 32)      896       \n",
            "                                                                 \n",
            " max_pooling2d (MaxPooling2  (None, 127, 127, 32)      0         \n",
            " D)                                                              \n",
            "                                                                 \n",
            " conv2d_1 (Conv2D)           (None, 125, 125, 64)      18496     \n",
            "                                                                 \n",
            " max_pooling2d_1 (MaxPoolin  (None, 62, 62, 64)        0         \n",
            " g2D)                                                            \n",
            "                                                                 \n",
            " conv2d_2 (Conv2D)           (None, 60, 60, 128)       73856     \n",
            "                                                                 \n",
            " max_pooling2d_2 (MaxPoolin  (None, 30, 30, 128)       0         \n",
            " g2D)                                                            \n",
            "                                                                 \n",
            " flatten (Flatten)           (None, 115200)            0         \n",
            "                                                                 \n",
            " dense (Dense)               (None, 128)               14745728  \n",
            "                                                                 \n",
            " dense_1 (Dense)             (None, 64)                8256      \n",
            "                                                                 \n",
            " dense_2 (Dense)             (None, 1)                 65        \n",
            "                                                                 \n",
            "=================================================================\n",
            "Total params: 14847297 (56.64 MB)\n",
            "Trainable params: 14847297 (56.64 MB)\n",
            "Non-trainable params: 0 (0.00 Byte)\n",
            "_________________________________________________________________\n"
          ]
        }
      ],
      "source": [
        "model.summary()"
      ]
    },
    {
      "cell_type": "code",
      "execution_count": 11,
      "metadata": {
        "id": "EdbDATrjRjyz"
      },
      "outputs": [],
      "source": [
        "model.compile(optimizer = 'adam', loss = 'binary_crossentropy',metrics= ['accuracy'])\n"
      ]
    },
    {
      "cell_type": "code",
      "execution_count": 12,
      "metadata": {
        "colab": {
          "base_uri": "https://localhost:8080/"
        },
        "id": "pi7LijFtSLa5",
        "outputId": "cb342932-e149-43c4-d0aa-ea98ac933100"
      },
      "outputs": [
        {
          "output_type": "stream",
          "name": "stdout",
          "text": [
            "Epoch 1/10\n",
            "625/625 [==============================] - 58s 82ms/step - loss: 0.6556 - accuracy: 0.6101 - val_loss: 0.5691 - val_accuracy: 0.7106\n",
            "Epoch 2/10\n",
            "625/625 [==============================] - 50s 80ms/step - loss: 0.5200 - accuracy: 0.7402 - val_loss: 0.5093 - val_accuracy: 0.7510\n",
            "Epoch 3/10\n",
            "625/625 [==============================] - 54s 86ms/step - loss: 0.4049 - accuracy: 0.8148 - val_loss: 0.4632 - val_accuracy: 0.7960\n",
            "Epoch 4/10\n",
            "625/625 [==============================] - 51s 80ms/step - loss: 0.2680 - accuracy: 0.8861 - val_loss: 0.6430 - val_accuracy: 0.7830\n",
            "Epoch 5/10\n",
            "625/625 [==============================] - 54s 86ms/step - loss: 0.1529 - accuracy: 0.9398 - val_loss: 0.8747 - val_accuracy: 0.7560\n",
            "Epoch 6/10\n",
            "625/625 [==============================] - 51s 80ms/step - loss: 0.0846 - accuracy: 0.9686 - val_loss: 0.9592 - val_accuracy: 0.7742\n",
            "Epoch 7/10\n",
            "625/625 [==============================] - 50s 79ms/step - loss: 0.0677 - accuracy: 0.9772 - val_loss: 0.9558 - val_accuracy: 0.7706\n",
            "Epoch 8/10\n",
            "625/625 [==============================] - 53s 84ms/step - loss: 0.0518 - accuracy: 0.9845 - val_loss: 1.0827 - val_accuracy: 0.7772\n",
            "Epoch 9/10\n",
            "625/625 [==============================] - 54s 86ms/step - loss: 0.0359 - accuracy: 0.9877 - val_loss: 1.3052 - val_accuracy: 0.7742\n",
            "Epoch 10/10\n",
            "625/625 [==============================] - 54s 86ms/step - loss: 0.0296 - accuracy: 0.9912 - val_loss: 1.2004 - val_accuracy: 0.7824\n"
          ]
        }
      ],
      "source": [
        "history = model.fit(train_ds, epochs = 10,validation_data=validation_ds)"
      ]
    },
    {
      "cell_type": "code",
      "execution_count": null,
      "metadata": {
        "id": "gLMeKNyzSZU4"
      },
      "outputs": [],
      "source": []
    }
  ],
  "metadata": {
    "accelerator": "GPU",
    "colab": {
      "gpuType": "T4",
      "provenance": [],
      "authorship_tag": "ABX9TyNTgVCMwfGsRDA/OW0tgtbT",
      "include_colab_link": true
    },
    "kernelspec": {
      "display_name": "Python 3",
      "name": "python3"
    },
    "language_info": {
      "name": "python"
    }
  },
  "nbformat": 4,
  "nbformat_minor": 0
}